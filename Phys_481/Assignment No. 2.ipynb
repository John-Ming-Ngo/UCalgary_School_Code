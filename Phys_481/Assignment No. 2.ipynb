{
 "cells": [
  {
   "cell_type": "markdown",
   "metadata": {
    "colab_type": "text",
    "id": "2q4GEuIexVur"
   },
   "source": [
    "# 2.1.1 Assignment 2 Problem (20 points): Check for uniform sampling\n",
    "\n",
    "**Problem:** Write a Python function to collect the outcomes of many rolls of a die (or the result of rolling more and more dice). Calculate the probabilities of obtaining the results 1 through 6 as a function of the number of rolls $N$, and plot the error (i.e. the difference between the calculated value and the theoretical value of 1/6) as a function of $N$ on a log-log plot. Fit the curve to a line and determine the slope. What do you find, and is this consistent with expectations?"
   ]
  },
  {
   "cell_type": "code",
   "execution_count": 1,
   "metadata": {
    "colab": {},
    "colab_type": "code",
    "id": "IW0BlRkDOEwe"
   },
   "outputs": [],
   "source": [
    "import numpy as np\n",
    "import matplotlib.pyplot as plt\n",
    "\n",
    "\"\"\"\n",
    "generateDiceRoll\n",
    "\n",
    "This function generates a random roll of a dice, \n",
    "or anything with evenly split probability.\n",
    "\n",
    "Parameters:\n",
    "  sides: Number of sides of the dice.\n",
    "Returns:\n",
    "  The result of the roll.\n",
    "\"\"\"\n",
    "def generateDiceRoll(sides):\n",
    "  return np.random.randint(1, sides+1)\n",
    "\n",
    "\"\"\"\n",
    "manyRollResults\n",
    "\n",
    "This Function collects the aggregated results of\n",
    "as many dice rolls as you desire.\n",
    "\n",
    "Parameters:\n",
    "  numRolls: Number of rolls of the dice to aggregate.\n",
    "  sides: Number of sides of the dice.\n",
    "Returns:\n",
    "  A tuple containing the possible values of the dice,\n",
    "  and the number of times that value showed up, in \n",
    "  (value, rollsPerSide) format.\n",
    "\"\"\"\n",
    "def manyRollResults(numRolls, sides):\n",
    "  \n",
    "  values = [x for x in range(1, sides+1)]\n",
    "  rollsPerSide = [0 for x in range(1, sides+1)]\n",
    "  \n",
    "  for roll in range(numRolls):\n",
    "    result = generateDiceRoll(sides)\n",
    "    rollsPerSide[result-1] += 1\n",
    "  return(values, rollsPerSide)\n",
    "\n",
    "\"\"\"\n",
    "calcProbability\n",
    "\n",
    "This function, given the number of rolls for each\n",
    "possibility, and the number of rolls total, calculates\n",
    "the probability of each possibility appearing.\n",
    "\n",
    "Parameters:\n",
    "\"\"\"\n",
    "def calcProbability(rollsPerSide, numRolls):\n",
    "  #print(rollsPerSide)\n",
    "  discoveredProbability = []\n",
    "  for entry in rollsPerSide:\n",
    "    discoveredProbability.append(float(entry)/numRolls)\n",
    "  return discoveredProbability\n",
    "\n",
    "\"\"\"\n",
    "calcError\n",
    "\n",
    "This function calculates the difference between the \n",
    "experimental and theoretical probabilities for the\n",
    "dice roll, and sums up the differences.\n",
    "\n",
    "Parameters:\n",
    "  discoveredProbability: Calculated probabilities for\n",
    "  each and every face of the dice, in a list.\n",
    "  numSides: Number of sides on this dice.\n",
    "Returns:\n",
    "  error: the total difference between the expected\n",
    "  probability and the actual probability, summed over\n",
    "  all possibilities of this dice.\n",
    "\"\"\"    \n",
    "def calcError(discoveredProbability, numSides):\n",
    "  errorList = []\n",
    "  for entry in discoveredProbability:\n",
    "    errorList.append(entry - (1/numSides))\n",
    "  error = 0\n",
    "  for entry in errorList:\n",
    "    error += abs(entry)\n",
    "  return error\n"
   ]
  },
  {
   "cell_type": "code",
   "execution_count": 2,
   "metadata": {
    "colab": {
     "base_uri": "https://localhost:8080/",
     "height": 34
    },
    "colab_type": "code",
    "id": "aq973XhPXPEF",
    "outputId": "ff5e620c-78a6-43f4-f8a0-dcf6a436567a"
   },
   "outputs": [
    {
     "name": "stdout",
     "output_type": "stream",
     "text": [
      "[16, 22, 21, 9, 17, 15]\n"
     ]
    }
   ],
   "source": [
    "#Sanity Check\n",
    "print(manyRollResults(100, 6)[1])"
   ]
  },
  {
   "cell_type": "code",
   "execution_count": 3,
   "metadata": {
    "colab": {
     "base_uri": "https://localhost:8080/",
     "height": 299
    },
    "colab_type": "code",
    "id": "EbnYM93AQD-s",
    "outputId": "c032c1cb-376a-4104-c036-cedb7229f6c9"
   },
   "outputs": [
    {
     "data": {
      "image/png": "[encoded data removed]",
      "text/plain": [
       "<Figure size 432x288 with 1 Axes>"
      ]
     },
     "metadata": {
      "needs_background": "light"
     },
     "output_type": "display_data"
    }
   ],
   "source": [
    "#Variables\n",
    "sides = 6\n",
    "#N = [x for x in range(1, 999)] #If we want a finer gradient.\n",
    "N = [10**x for x in range(7)]\n",
    "rollResults = []\n",
    "\n",
    "probabilitiesPerN = []\n",
    "errors = []\n",
    "\n",
    "#Run through the functions, processing until we get the results we want - the probabilities and the errors.\n",
    "for entry in N:\n",
    "  rollResults.append(manyRollResults(entry, sides))\n",
    "\n",
    "for index in range(len(rollResults)):\n",
    "  probabilitiesPerN.append(calcProbability((rollResults[index][1]), N[index]))\n",
    "\n",
    "for index in range(len(probabilitiesPerN)):\n",
    "  errors.append(calcError(probabilitiesPerN[index], sides))\n",
    "\n",
    "#Plot the results.\n",
    "plt.loglog(N, errors, \"ro\", basex=10, basey=10)\n",
    "\n",
    "#Plot the line of best fit\n",
    "m, c = np.polyfit(np.log(N), np.log(errors), 1) # Find the fit values for the line\n",
    "errorLineY = np.exp(m*np.log(N) + c) # Find fitted values of N for the range of N \n",
    "plt.plot(N, errorLineY, '-')\n",
    "\n",
    "#Graph Labelling\n",
    "plt.title(\"Error vs Number of Rolls for a Random Dice\")\n",
    "plt.ylabel('Errors')\n",
    "plt.xlabel('Number of Rolls')\n",
    "plt.grid()\n",
    "plt.show()"
   ]
  },
  {
   "cell_type": "markdown",
   "metadata": {
    "colab_type": "text",
    "id": "aacXoyHlgK_N"
   },
   "source": [
    "We find that the curve for the loglog graph of Error vs N is linear, and slopes downward. This is consistent with our notion that as the number of samples of a random event is increased, we approach the theoretical probabilities with ever greater precision. In particular, it is consistent with the expectation that our error decreases propotionally to 1/sqrt(n) or (n^(-1/2)), which when plotted on a log log scale gives us log(y) = -(1/2) log(N), which is roughly what we see, save for a horizontal displacement c, which is due to the fact that at 1 roll, error is not zero but rather at its greatest, so it is completely consistent with my expectations."
   ]
  },
  {
   "cell_type": "markdown",
   "metadata": {
    "colab_type": "text",
    "id": "slQW9bw44hYQ"
   },
   "source": [
    "# 2.2 Macrostates, Statistics, and Entropy\n"
   ]
  },
  {
   "cell_type": "markdown",
   "metadata": {
    "colab_type": "text",
    "id": "2pdoyMCx1XaC"
   },
   "source": [
    "# 2.2.1 Macrostates\n",
    "If the coin is unfair, so that $p$ is the probability of obtaining heads and $q$ is the probability of obtaining tails, we still need $p+q=1$. But now if there are $N$ events, made up of $n_1$ head outcomes and $n_2$ tail outcomes ($N=n_1+n_2$), the microstate probability $P_{\\rm micro}$ is\n",
    "$$P_{\\rm micro}=P_{\\rm micro}(n_1)=p^{n_1}q^{n_2}=p^{n_1}(1-p)^{N-n_1}.$$\n",
    "\n",
    "Suppose that we weren't interested in the exact outcome, i.e. heads, tails, tails, heads, heads, etc. Instead, imagine that we were only interested in the probability of obtaining $n_1$ heads and $n_2=N-n_1$ tails, *irrespective of the order*. We would need to count all of the microstates satisfying this condition. The resulting **macrostate** probability is then $P_{\\rm macro}(n_1)=\\Omega(n_1)p^{n_1}q^{N-n_1}$, where $\\Omega(n_1)$ is the number of ways of arranging\n",
    "$n_1$ events with $p$ and $N-n_1$ events with $q$. We also know that the sum over all macrostate probabilities should also be unity:\n",
    "$$\\sum_{n_1}P_{\\rm macro}(n_1)=\\sum_{n_1}\\Omega(n_1)p^{n_1}q^{N-n_1}=1.$$\n",
    "Let's use the binomial theorem:\n",
    "$$(p+q)^N=1=\\sum_{n=0}^N\\left({N!\\over n!(N-n)!}\\right)p^nq^{N-n}.$$\n",
    "\n",
    "Comparison of the two displayed equations above shows that the number of ways of distributing microstates in a macrostate is given by:\n",
    "$$\\Omega(N,n)={N!\\over n!(N-n)!}\\equiv\\pmatrix{N\\cr n}.$$\n",
    "These are the binomial coefficients, which can be found using Pascal's triangle. By the way, the right hand side of the above equation is read ''$N$ choose $n$.\" Note that if $p=q=1/2$ then\n",
    "$$\\sum_{n=0}^N{N!\\over n!(N-n)!}=2^N,$$\n",
    "as expected.\n",
    "\n",
    "If there are more than two possible outcomes for a simple event (for example there are 6 possible outcomes for a roll of a die), then the expression above generalizes. For $d$ possible outcomes, we obtain the $d$-nomial\n",
    "$$\\Omega={N!\\over n_1!n_2!\\cdots n_d!}=\\frac{N!}{\\prod_i^dn_i!}.$$\n",
    "\n"
   ]
  },
  {
   "cell_type": "markdown",
   "metadata": {
    "colab_type": "text",
    "id": "ECcP9zp_7Q5F"
   },
   "source": [
    "# 2.2.2 Statistics\n",
    "Let's return to coins. We'd like to know what the average (mean) number of heads we obtain after $N$ events, and what the standard deviation is around this mean. The average number of heads can be found using\n",
    "\\begin{eqnarray}\n",
    "\\overline{n_1}=\\sum_{n_1=0}^Np(n_1)n_1&=&\\sum_{n_1=0}^N{N!\\over\n",
    "n_1!(N-n_1)!}p^{n_1}q^{N-n_1}n_1\\nonumber \\\\\n",
    "&=&\\sum_{n_1=0}^N{N!\\over n_1!(N-n_1)!}q^{N-n_1}\\left[n_1p^{n_1}\\right]\n",
    "\\nonumber \\\\\n",
    "&=&\\sum_{n_1=0}^N{N!\\over n_1!(N-n_1)!}q^{N-n_1}\\left[p{d\\over\n",
    "dp}\\left(p^{n_1}\\right)\\right]\\nonumber  \\\\\n",
    "&=&p{d\\over dp}\\sum_{n_1=0}^N{N!\\over n_1!(N-n_1)!}q^{N-n_1}p^{n_1}\\nonumber \\\\\n",
    "&=&p{d\\over dp}\\left[(p+q)^N\\right]\\qquad\\mbox{from binomial\n",
    "theorem}\\nonumber \\\\\n",
    "&=&pN(p+q)^{N-1}=pN.\\qquad\\mbox{since $p+q=1$.}\n",
    "\\end{eqnarray}\n",
    "So the mean number of heads is just the total number of steps\n",
    "times the probability of taking a step to the right. No surprises here!\n",
    "Obviously we also know that $\\overline{n_2}=qN$ and so\n",
    "$\\overline{m}=N(p-q)$.\n",
    "\n",
    "Now for the variance, $(\\Delta n_1)^2=\\overline{n_1^2}\n",
    "-\\overline{n_1}^2$. Because we already know $\\overline{n_1}$, we only need\n",
    "to obtain $\\overline{n_1^2}$. But now, instead of a factor of $n_1$ appearing in the sum, there is now a factor of $n_1^2$. It would\n",
    "be nice to use a derivative trick like we used above. Check it out! Using\n",
    "$${d\\over dp}\\left(p^{n_1}\\right)=n_1p^{n_1-1}\\quad{\\rm and}\\quad{d^2\\over dp^2}\n",
    "\\left(p^{n_1}\\right)=n_1(n_1-1)p^{n_1-2},$$\n",
    "one gets\n",
    "$$p^2{d^2\\over dp^2}\\left(p^{n_1}\\right)=(n_1^2-n_1)p^{n_1}\\quad\\Rightarrow\n",
    "\\quad n_1^2p^{n_1}=p^2{d^2\\over dp^2}\\left(p^{n_1}\\right)+n_1p^{n_1}.$$\n",
    "So right away the result can be written down:\n",
    "\\begin{eqnarray}\n",
    "\\overline{n_1^2}&=&p^2{d^2\\over dp^2}\\left[(p+q)^N\\right]+pN\\nonumber \\\\\n",
    "&=&p^2\\left[N(N-1)(p+q)^{N-2}\\right]+pN\\nonumber \\\\\n",
    "&=&p^2N(N-1)+pN.\\nonumber\n",
    "\\end{eqnarray}\n",
    "So\n",
    "$$(\\Delta n_1)^2=\\overline{n_1^2}-\\overline{n_1}^2=p^2N^2-p^2N+pN-p^2N^2\n",
    "=Np(1-p)=Npq.$$\n",
    "\n",
    "The standard deviation, the square root of the variance, is therefore\n",
    "$\\Delta n_1=\\sqrt{Npq}=\\sqrt{N}/2$ for a fair coin. The relative error is therefore\n",
    "$${\\Delta n_1\\over\\overline{n_1}}={\\sqrt{Npq}\\over\n",
    "Np}={1\\over\\sqrt{N}}\\sqrt{q\\over p}={1\\over\\sqrt{N}}\\quad\\mbox{when $p=q$.}$$\n",
    "As the number of steps $N$ increases, $\\overline{n_1}$\n",
    "also increases but the relative width of the distribution actually sharpens\n",
    "like $N^{-1/2}$. This is an important result on the fluctuations around the mean for a normal distribution. \n",
    "\n",
    "Did you find that the error in Problem 2.1.1 scaled like $N^{-1/2}$? "
   ]
  },
  {
   "cell_type": "markdown",
   "metadata": {
    "colab_type": "text",
    "id": "D0wM_xaxFWbn"
   },
   "source": [
    "# 2.2.3 Assignment 2 Problem (20 points)\n",
    "Calculate the macrostate probability $P(n_1)$ for a coin, and plot the function against $n_1$ for a few large values of $N$ ($N\\approx 100 - 200$ should be large -- and tricky -- enough). Show that the function is well-approximated by a Gaussian centered at $n_1=N/2$ with a width scaling like $1/\\sqrt{N}$."
   ]
  },
  {
   "cell_type": "markdown",
   "metadata": {},
   "source": [
    "The following piece of code will allow us to view the probability distribution of the coin of the coin falling on any side, provided its the same side continously."
   ]
  },
  {
   "cell_type": "code",
   "execution_count": 4,
   "metadata": {
    "colab": {},
    "colab_type": "code",
    "id": "cPbkdximPhI1"
   },
   "outputs": [],
   "source": [
    "#import the required libraries\n",
    "\n",
    "import numpy as np\n",
    "import matplotlib.pyplot as plt"
   ]
  },
  {
   "cell_type": "code",
   "execution_count": 5,
   "metadata": {},
   "outputs": [],
   "source": [
    "#program an objective class to compute the Binomial distrbution of a function utilizing the mathematics \n",
    "#displayed in the lecture\n",
    "class Binomial_distribution(object):   \n",
    "    #Initialize the statistical information required to compute the possible states\n",
    "    def __init__(self, choose):\n",
    "        self.choose = choose        \n",
    "    #create an attribute for probability or Omega\n",
    "    def Probability(self):\n",
    "        N = self.choose[0]\n",
    "        n = self.choose[1]\n",
    "        p = self.choose[2]\n",
    "        q = 1-self.choose[2]\n",
    "        \n",
    "        #compute the choose or combinations (N choose n)\n",
    "        def Combinations(N,n):\n",
    "        #Sum the components up, where N_ex = N!, n_ex = n!,N_n_ex = (N-n)!                    \n",
    "            def N_ex(N):\n",
    "                x = 1\n",
    "                for i in range(1,N+1):\n",
    "                    x = x*i\n",
    "                return x\n",
    "            def n_ex(n):\n",
    "                x = 1\n",
    "                for i in range(1,n+1):\n",
    "                    x = x*i\n",
    "                return x\n",
    "            def N_n_ex(N,n):\n",
    "                N_n = N-n\n",
    "                x = 1\n",
    "                for i in range(1,N_n+1):\n",
    "                    x = x*i\n",
    "                return x\n",
    "            #implement the mathematics above and calculate Omega desired\n",
    "            def Omega(N,n):\n",
    "                M = N_ex(N)\n",
    "                m = n_ex(n)\n",
    "                M_m = N_n_ex(N,n)\n",
    "                omega = M/(m*M_m)\n",
    "                return omega\n",
    "            \n",
    "            return Omega(N,n)\n",
    "        \n",
    "        Omega = Combinations(N,n)\n",
    "        \n",
    "        #Once Omega is calculated, probability for each n can be calculated and thus P(n) can be calculated;\n",
    "        #this is displayed below        \n",
    "        def Prob_arrangements(Omega, p, q, N,n):\n",
    "            \n",
    "            probability = Omega*(p**n)*(q**(N-n))\n",
    "            \n",
    "            return probability\n",
    "        #return the Probability to complete the attribute\n",
    "        return Prob_arrangements(Omega, p, q, N,n)\n",
    "        #return Omega(N,n)   "
   ]
  },
  {
   "cell_type": "code",
   "execution_count": 6,
   "metadata": {},
   "outputs": [],
   "source": [
    "#for a coin toss, let p = 0.5 for any side\n",
    "#N = number of trials\n",
    "#n = number of times the coin will land on heads or tails\n",
    "N = 200\n",
    "p = 0.5\n",
    "#n = 1\n",
    "#flip n from 1 to the N range and get the probabilities\n",
    "number_of_heads = []\n",
    "Probability_of_heads = []\n",
    "for n in range(1,N+1):\n",
    "    number_of_heads.append(n)   \n",
    "    statistical_variables = (N,n,p)\n",
    "    P = Binomial_distribution(statistical_variables).Probability()\n",
    "    #print(P)\n",
    "    Probability_of_heads.append((P))\n"
   ]
  },
  {
   "cell_type": "code",
   "execution_count": 7,
   "metadata": {},
   "outputs": [
    {
     "data": {
      "image/png": "[encoded data removed]",
      "text/plain": [
       "<Figure size 864x720 with 1 Axes>"
      ]
     },
     "metadata": {
      "needs_background": "light"
     },
     "output_type": "display_data"
    }
   ],
   "source": [
    "#form the desired graph\n",
    "plt.figure(figsize=(12,10))\n",
    "plt.plot(number_of_heads,Probability_of_heads)\n",
    "plt.grid(True)\n",
    "plt.xlabel(\"n\")\n",
    "plt.ylabel(\"P(n)\")\n",
    "\n",
    "plt.show()"
   ]
  },
  {
   "cell_type": "markdown",
   "metadata": {},
   "source": [
    "As requested the Gaussian is centered at N/2, in our case N was 200, hence N/2 = 100; now for scaling\n",
    "\n",
    "It's is stated that; \n",
    "\n",
    "$${\\Delta n_1\\over\\overline{n_1}}={1\\over\\sqrt{N}}\\quad\\mbox{when $p=q$.}$$\n",
    "\n",
    "Let's proof it utilizing the code below:"
   ]
  },
  {
   "cell_type": "code",
   "execution_count": 8,
   "metadata": {},
   "outputs": [],
   "source": [
    "def Scaling(N):\n",
    "    #the following function will compute n bar\n",
    "    def n_b(N):\n",
    "        nb = 0\n",
    "        p = 0.5\n",
    "        for n in range(1,N+1):\n",
    "            statistical_variables = (N,n,p)\n",
    "            P = Binomial_distribution(statistical_variables).Probability()\n",
    "            nb = nb + n*P\n",
    "        return nb\n",
    "    #the following will compute n squared bar\n",
    "    def n_b_2(N):\n",
    "        nb2 = 0\n",
    "        p = 0.5\n",
    "        for n in range(1,N+1):\n",
    "            statistical_variables = (N,n,p)\n",
    "            P = Binomial_distribution(statistical_variables).Probability()\n",
    "            nb2 = nb2 + (n**2)*P\n",
    "        return nb2\n",
    "    #the following will compute the error in n as shown by the mathematics above\n",
    "    d_n = (n_b_2(N)-n_b(N)**(2))**(1/2)\n",
    "    #this will compute the left side ratio as shown\n",
    "    ratio = d_n/n_b(N)\n",
    "    #this will compute the scale on the right\n",
    "    scale = 1/(N**(1/2))\n",
    "    #the following will return both for comparision \n",
    "    return ratio, scale"
   ]
  },
  {
   "cell_type": "code",
   "execution_count": 9,
   "metadata": {},
   "outputs": [
    {
     "name": "stdout",
     "output_type": "stream",
     "text": [
      "Thus the scaling on both sides are for right and left 0.07071067811864959 0.07071067811865475 respectively\n"
     ]
    }
   ],
   "source": [
    "N= 200\n",
    "left = Scaling(N)[0]\n",
    "right = Scaling(N)[1]\n",
    "\n",
    "print(\"Thus the scaling on both sides are for right and left\", left, right, \"respectively\")"
   ]
  },
  {
   "cell_type": "markdown",
   "metadata": {},
   "source": [
    "As can be seen the condition has been satisified and as such it does scale with N. "
   ]
  },
  {
   "cell_type": "markdown",
   "metadata": {
    "colab_type": "text",
    "id": "PA_JEdmj4piy"
   },
   "source": [
    "# 2.2.4 Boltzmann and Shannon Entropy\n",
    "\n",
    "Boltzmann introduced the idea of entropy as \n",
    "$$S=k_B\\ln(\\Omega),$$\n",
    "where $k_B$ is today known as Boltzmann's constant, and has the value of $k_B\\approx 1.38\\times 10^{-23}$ J/K. It is super important for thermodynamics, but this is a long story. Hopefully you'll learn all about it in statistical mechanics. In any case, for the $d$-nomial in the previous subsection, we obtain\n",
    "\\begin{eqnarray}\n",
    "\\ln(\\Omega)&=&\\ln\\left({N!\\over\\prod_{i=1}^dn_i!}\\right)\\nonumber \\\\\n",
    "&=&N\\ln(N)-N-\\ln\\left(\\prod_in_i!\\right)\\qquad\n",
    "\\mbox{using Stirling's formula since $N\\gg 1$}\\nonumber \\\\\n",
    "&=&N\\ln(N)-N-\\sum_i\\left[n_i\\ln(n_i)-n_i\\right],\n",
    "\\end{eqnarray}\n",
    "if $n_i\\gg 1$ for all $n_i$. We know from the subsection above that as $N\\to\\infty$, $\\overline{n}_i=Np_i$, so we can replace $n_i$ with $Np_i$:\n",
    "\\begin{eqnarray}\n",
    "\\ln(\\Omega)&=&N\\ln(N)-N-\\sum_i\\left[Np_i\\ln(Np_i)-Np_i\\right]\\nonumber \\\\\n",
    "&=&N\\ln(N)-N-N\\ln(N)\\sum_ip_i-N\\sum_ip_i\\ln(p_i)+N\\sum_ip_i\\qquad\n",
    "\\mbox{but $\\sum_ip_i=1$}\\nonumber \\\\\n",
    "&=&-N\\sum_ip_i\\ln(p_i).\\nonumber\n",
    "\\end{eqnarray}\n",
    "So, the Boltzmann entropy at equilibrium becomes \n",
    "\\begin{equation}\n",
    "S=-Nk_B\\sum_ip_i\\ln(p_i).\n",
    "\\end{equation}\n",
    "\n",
    "This entropy is a maximum when all the probabilities are equal, $p_i=1/N$, corresponding to the classical limit of simple events. This is easy to check:\n",
    "\\begin{eqnarray}\n",
    "\\frac{\\partial}{\\partial p_j}S&=&\\frac{\\partial}{\\partial p_j}\\left[-Nk_B\\sum_ip_i\\ln(p_i)\\right]\\\\\n",
    "&=&-Nk_B\\frac{\\partial}{\\partial p_j}\\left[p_1\\ln(p_1)+\\ldots+p_j\\ln(p_j)+\\ldots+(1-p_1-\\ldots-p_j-\\ldots-p_{N-1})\\ln(1-p_1-\\ldots-p_j-\\ldots-p_{N-1})\\right],\n",
    "\\end{eqnarray}\n",
    "where in the second line I have made use of the fact that the $p_i$s are not independent (for example $p_1+p_2=1$). So\n",
    "\\begin{eqnarray}\n",
    "\\frac{\\partial}{\\partial p_j}S&=&-Nk_B\\left[\\ln(p_j)+1-\\ln(1-p_1-\\ldots-p_j-\\ldots-p_{N-1})-1\\right].\\\\\n",
    "\\end{eqnarray}\n",
    "Setting this to zero gives\n",
    "$$p_j=1-p_1-\\ldots-p_j-\\ldots-p_{N-1},$$\n",
    "but because the right hand side is the probability for any other outcome, $p_j=p_i=1/N$ for all $i,j$, so all the probabilities are equal. The maximum entropy is therefore\n",
    "$$S_{\\rm max}=-k_B\\frac{N}{N}\\ln\\left(\\frac{1}{N}\\right)=k_B\\ln(N).$$\n",
    "And we're back to where we started, under the assumption that $\\Omega=N$ for simple events.\n",
    "\n",
    "Shannon derived an expression for entropy a completely different way. Suppose that we have a radio antenna that broadcasts digital signals\n",
    "encoded in the bitstrings $X_1,\\;X_2,\\;\\ldots X_m$, where for example $X_1=0110010111\\ldots$. The question Shannon posed is: what are the resources required to represent all of these bitstrings? An alternative way of asking the question is: how much memory is required to store all of the bitstrings? Shannon found that the quantity $H(X)$, now called the Shannon entropy, gives the mean number of bits per string required. Formally, if the probability of the antenna to produce bitstring $X_i$ is $p_i$, then the Shannon entropy is\n",
    "\\begin{equation}\n",
    "H(X)=H(p_1,p_2,\\ldots,p_m)\\equiv -\\sum_{i=1}^mp_i\\log_2(p_i).\n",
    "\\end{equation}\n",
    "This is basically the same thing as the Boltzmann entropy, at equilibrium, without the need for a factor that converts to energy and temperature. The entropy gives the lowest achievable average bitstring length, and so this expression is also referred to as Shannon's lossless coding theorem.\n",
    "\n",
    "Consider a concrete example. Suppose that the antenna broadcasts the four numbers 0, 1, 2, and 3, all with probablity 1/4. Then you could store all four digits efficiently using the binary representation 00, 01, 10, and 11. This requires two bits, which should also coincide with Shannon entropy:\n",
    "$$H(0,1,2,3)=-\\frac{1}{4}\\log_2\\left(\\frac{1}{4}\\right)*4=\\log_2(4)=2\\log_2(2)=2,$$\n",
    "as expected.\n",
    "\n",
    "Now instead suppose that the four numbers are broadcast with probabilities $1/2$, $1/4$, $1/8$, and $1/8$, respectively. Can we be more efficient with the encoding of the four numbers , to minimize (on average) the total number of bits we need to transmit / store? The Shannon entropy suggests that we only need an average bitstring length of \n",
    "$$H(0,1,2,3)=-\\frac{1}{2}\\log_2\\left(\\frac{1}{2}\\right)-\\frac{1}{4}\\log_2\\left(\\frac{1}{4}\\right)-(2)\\frac{1}{8}\\log_2\\left(\\frac{1}{8}\\right)=\\frac{1}{2}+\\frac{2}{4}+\\frac{6}{8}=\\frac{14}{8}=1\\frac{3}{4}$$\n",
    "bits, which is less than 2. \n",
    "\n",
    "**Exercise:** How can we encode the numbers as bitstrings to achieve this entropy? Note that the encoding needs be chosen so that you can always recognize a number in the midst of a long stream of bits with no spaces. (answer given in class)."
   ]
  },
  {
   "cell_type": "markdown",
   "metadata": {
    "colab_type": "text",
    "id": "RUUnfJ0EpzZY"
   },
   "source": [
    "# 2.3 Huffman coding\n",
    "Huffman coding (https://en.wikipedia.org/wiki/Huffman_coding) is an algorithmic approach to encoding information in variable-length bitstrings to achieve (as closely as possible) Shannon's lower bound. Please take a look at the wikipedia page (and others) to learn about it, but the basic idea is to construct a binary tree, with the two branches labeled by 0 and 1. Suppose that an antenna broadcasts 20 different words, each with some probability. Huffman coding places the words in a row in order of descending probability. Then you would combine the two words with the lowest probability in one binary tree, adding the probabilities to the root. Then you would again combine the two smallest probabilities (which might sometimes involve a little tree created previously), until all the branches are connected. To encode the word, write down the 0's and 1's of all the branches from the root of the tree until you get to the word of choice. I'll give a quick example in class based on the exercise above."
   ]
  },
  {
   "cell_type": "markdown",
   "metadata": {
    "colab_type": "text",
    "id": "0B5FJcbZsjgc"
   },
   "source": [
    "# 2.3.1 Assignment 2 Problem (60 points): Lossless image compression\n",
    "Consider the photograph Feder.tif; you can find this in the Resources folder in D2L. This was taken on a 14 megapixel camera, and each pixel has an 8-bit value. In other words, the greyscale takes values between 0 (minimum or black) and $2^8-1=255$ (maximum or white). Because each byte is 8 bits, the total size of the file is about 14 Mb (each pixel stores one byte of data). \n",
    "\n",
    "**Problem (10 points):** Using Python, obtain the image histogram, i.e. the relative abundances of pixel values (the number of pixels in the image with a particular byte value). For example it should list the number of black pixels with value 0, the number of almost-black\n",
    "pixels with value 1, etc.\n",
    "\n",
    "**Problem (10 points):** Convert the image into another image file format (such as jpg, gif, png, etc.), and compare the resulting sizes with that obtained in (a). Given that file compression must be lossless, how does the size reduction compare with Shannon's theorem? What can you infer about various kinds of image formats?\n",
    "\n",
    "**Problem (40 points):** Using Python, write an algorithm that\n",
    "implements a Huffman encoding scheme based on the relative abundances of the pixel values in the image. Use this to obtain an improved digital representation of the pixel values. Ensure that your code prints out the binary representation for each pixel value from 0 to 255. Calculate the mean length of the bitstrings encoding the pixel values, and therefore the size of the image using this encoding. How do the results compare with those obtained in (a) and (b)? How does the mean bitstring length compare to the predictions based on Shannon's theorem? Comment."
   ]
  },
  {
   "cell_type": "code",
   "execution_count": 10,
   "metadata": {},
   "outputs": [],
   "source": [
    "import numpy as np\n",
    "import matplotlib.pyplot as plt\n",
    "\n",
    "#import all images for the second question\n",
    "\n",
    "from PIL import Image\n",
    "im = Image.open(\"Feder.tif\")\n",
    "im_png = im.save(\"Feder.png\")\n",
    "im_png_open = Image.open(\"Feder.png\")\n",
    "imarray = np.array(im)\n",
    "im_pngarray = np.array(im_png)\n",
    "im_png_open_array = np.array(im_png_open)\n",
    "im_jpg = im.save(\"Feder.jpeg\")\n",
    "imarrayjpg = np.array(im_jpg)\n",
    "\n"
   ]
  },
  {
   "cell_type": "code",
   "execution_count": 11,
   "metadata": {},
   "outputs": [],
   "source": [
    "class image_information(object):\n",
    "    '''\n",
    "    This will class will process all image information, such as pixel number, \n",
    "    the count of each pixel, and frequency plot\n",
    "    \n",
    "    '''\n",
    "    \n",
    "    def __init__(self,imarray):\n",
    "        self.imarray = imarray \n",
    "        \n",
    "    def pixel_number(self):\n",
    "        horizontal_dimension, vertical_dimension = imarray.shape[0],imarray.shape[1]\n",
    "        \n",
    "        return horizontal_dimension*vertical_dimension\n",
    "        \n",
    "    def pixel_count(self):\n",
    "        \n",
    "        #print(\"The function is being test\")\n",
    "        #return imarray\n",
    "        horizontal_dimension, vertical_dimension = imarray.shape[0],imarray.shape[1]\n",
    "        pixel_vals = imarray.reshape((horizontal_dimension*vertical_dimension,))\n",
    "        unique, counts = np.unique(pixel_vals, return_counts=True)\n",
    "        pixel_val_frequency = dict(zip(unique, counts))\n",
    "        return pixel_val_frequency\n",
    "    \n",
    "    def frequency_plot(self):\n",
    "        \n",
    "        horizontal_dimension, vertical_dimension = imarray.shape[0],imarray.shape[1]\n",
    "        pixel_vals = imarray.reshape((horizontal_dimension*vertical_dimension,))\n",
    "        unique, counts = np.unique(pixel_vals, return_counts=True)\n",
    "        pixel_val_frequency = dict(zip(unique, counts))\n",
    "        \n",
    "        #pixel_frequency = pixel_count(imarray)\n",
    "        \n",
    "        plt.figure(figsize=(12,10))\n",
    "        plt.ylabel(\"Pixel Frequency\")\n",
    "        plt.xlabel(\"Pixel value\")\n",
    "        \n",
    "        plt.bar(list(pixel_val_frequency.keys()), pixel_val_frequency.values(), color='g')\n",
    "        \n",
    "        plt.show()"
   ]
  },
  {
   "cell_type": "markdown",
   "metadata": {},
   "source": [
    "Pixel Frequency plot as requested"
   ]
  },
  {
   "cell_type": "code",
   "execution_count": 12,
   "metadata": {},
   "outputs": [
    {
     "data": {
      "image/png": "[encoded data removed]",
      "text/plain": [
       "<Figure size 864x720 with 1 Axes>"
      ]
     },
     "metadata": {
      "needs_background": "light"
     },
     "output_type": "display_data"
    }
   ],
   "source": [
    "image_information(imarray).frequency_plot()"
   ]
  },
  {
   "cell_type": "markdown",
   "metadata": {},
   "source": [
    "Now for the second one\n",
    "\n",
    "The shannon's Theorem will reach a minimum when the derivative of H will be 0; if this condition is satisfied the image will be lossless after compression. it can be seen the jpeg and png format reduct the size of the file from 13,669kb as a tiff to 6104kb as png and 1279 kb as a jpeg. Calculations of the shannon entrophy will be run below to ensure the file is accurate, to no information loss\n"
   ]
  },
  {
   "cell_type": "code",
   "execution_count": null,
   "metadata": {},
   "outputs": [],
   "source": []
  },
  {
   "cell_type": "code",
   "execution_count": null,
   "metadata": {},
   "outputs": [],
   "source": []
  },
  {
   "cell_type": "code",
   "execution_count": 13,
   "metadata": {
    "colab": {},
    "colab_type": "code",
    "id": "Kg0-A0h6Iko1"
   },
   "outputs": [],
   "source": [
    "\"\"\"\n",
    "This class is a weighted binary tree meant to make Hoffman encoding work.\n",
    "\n",
    "Attributes:\n",
    "  rightTree: Right subtree of the binary tree\n",
    "  leftTree: Left subtree of the binary tree\n",
    "  weight: Weight of the binary tree. Leave blank if not leaf node.\n",
    "  name: Name of the leaf node/thing to be encoded. Leave blank if not leaf node.\n",
    "  bitName: The hoffman encoding bitstring name for the node. Should only apply to leaf nodes.\n",
    "\"\"\"\n",
    "class weightedBinaryTree:\n",
    "    def __init__(self, rightTree = None, leftTree = None, weight = None, name = None, bitName = \"\"):\n",
    "        #Tree Structure\n",
    "        self.rightTree = rightTree\n",
    "        self.leftTree = leftTree\n",
    "\n",
    "        #Name of thing to be encoded\n",
    "        self.name = name\n",
    "        self.bitName = bitName\n",
    "        self.weight = weight\n",
    "\n",
    "        #If this isn't a leaf node, then its weight depends on its subtrees.\n",
    "        #Also if it isn't a leaf node, then its leaves gets a longer encodng length.\n",
    "        if self.weight == None:\n",
    "            self.calcWeight()\n",
    "            self.rightTree.appendBitName(0)\n",
    "            self.leftTree.appendBitName(1)\n",
    "\n",
    "        #Given that this isn't a leaf node, its weight is the sum of the\n",
    "        #weights of its two branches, left and right. \n",
    "    def calcWeight(self):\n",
    "        tempWeight = 0\n",
    "        #print(\"Calcing Weight\")\n",
    "        if self.rightTree != None:\n",
    "            tempWeight += self.rightTree.getWeight() \n",
    "        if self.leftTree != None:\n",
    "            tempWeight += self.leftTree.getWeight()\n",
    "            self.weight = tempWeight\n",
    "\n",
    "        #Needed Getters\n",
    "    def getRightTree(self):\n",
    "        return self.rightTree\n",
    "\n",
    "    def getLeftTree(self):\n",
    "        return self.leftTree\n",
    "\n",
    "    def getBitName(self):\n",
    "        return self.bitName\n",
    "\n",
    "    def getName(self):\n",
    "        return self.name\n",
    "\n",
    "    def getWeight(self):\n",
    "        return self.weight\n",
    "\n",
    "    def isLeaf(self):\n",
    "        return ((self.rightTree == None) and (self.leftTree == None))\n",
    "\n",
    "    #Lets us set the name to each leaf node, used for hoffman encoding.\n",
    "    def appendBitName(self, number):\n",
    "        if not self.isLeaf():\n",
    "            self.rightTree.appendBitName(number)\n",
    "            self.leftTree.appendBitName(number)\n",
    "        if self.isLeaf():\n",
    "            #print(number)\n",
    "            self.bitName = \"{}\".format(number) + self.bitName\n",
    "        return\n",
    "\n",
    "  "
   ]
  },
  {
   "cell_type": "code",
   "execution_count": 14,
   "metadata": {
    "colab": {},
    "colab_type": "code",
    "id": "gtxVDkEvfFXD"
   },
   "outputs": [],
   "source": [
    "\"\"\"\n",
    "This function, given a list of weighted binary trees,\n",
    "returns the list sorted by the weight of the trees in\n",
    "largest to smallest order. Uses quicksort.\n",
    "\n",
    "Parameters:\n",
    "  trees - the list of weighted binary trees.\n",
    "\"\"\"\n",
    "def sortTrees(trees):\n",
    "    if len(trees) == 0:\n",
    "        return trees\n",
    "    lastTree = trees.pop()\n",
    "    weight = lastTree.getWeight()\n",
    "\n",
    "      #print(lastTree.isLeaf())\n",
    "      #print(\"sorting\")\n",
    "      #for entity in trees:\n",
    "        #print(entity.getWeight())\n",
    "      #print(len(trees))\n",
    "      #print(weight)\n",
    "    return sortTrees([x for x in trees if x.getWeight() > weight]) + [lastTree] + sortTrees([x for x in trees if x.getWeight() <= weight])\n",
    "\n",
    "\"\"\"\n",
    "This function, given a list in [[Name, Frequency]] or\n",
    "[(Name, Frequency)] format, makes an equivalent list of\n",
    "binary tree leaf nodes.\n",
    "\n",
    "Parameters:\n",
    "  List - the list as described above\n",
    "Returns:\n",
    "  nodes - a list of all the leaf nodes generated from the list\n",
    "\"\"\"\n",
    "def makeTree(list):\n",
    "    nodes = []\n",
    "  #print(\"Making a tree\")\n",
    "  #print(list)\n",
    "    for entry in list:\n",
    "        node = weightedBinaryTree(name = entry[0], weight = entry[1])\n",
    "        nodes.append(node)\n",
    "    return nodes"
   ]
  },
  {
   "cell_type": "code",
   "execution_count": 15,
   "metadata": {
    "colab": {},
    "colab_type": "code",
    "id": "z4j7H-VAPotZ"
   },
   "outputs": [],
   "source": [
    "\"\"\"\n",
    "This function, given a list of names and frequencies of these names, returns a hoffman\n",
    "encoding binary tree with these names, frequencies, and their bitname in the encoding in\n",
    "the leaf nodes of this tree.\n",
    "\n",
    "Parameters:\n",
    "  imageData: A [[Name, Frequency]] containing the data we care about and its frequency.\n",
    "Returns:\n",
    "  The single tree corrisponding to the formed up together Hoffman encoding tree.\n",
    "\"\"\"\n",
    "def encodeHoffman(imageData):\n",
    "    #Preliminary processing and sorting into ordered trees.\n",
    "    nodes = makeTree(imageData)\n",
    "    nodes = sortTrees(nodes)\n",
    "    #for tree in nodes:\n",
    "    #print(tree.getWeight())  \n",
    "    #While they are not all joined into a single tree\n",
    "    while len(nodes) > 1:\n",
    "        #Join the last 2 together\n",
    "        #print(\"encoding\")\n",
    "        firstEnd = nodes.pop()\n",
    "        secondEnd = nodes.pop()\n",
    "        newNode = weightedBinaryTree(firstEnd, secondEnd)\n",
    "        nodes.append(newNode)\n",
    "\n",
    "        #Then sort the list again.\n",
    "        #print(nodes)\n",
    "        nodes = sortTrees(nodes)\n",
    "        \n",
    "    return nodes.pop()"
   ]
  },
  {
   "cell_type": "markdown",
   "metadata": {
    "colab_type": "text",
    "id": "R_wXx4J-KZ0J"
   },
   "source": [
    "Current idea for Huffman: We need to feed into a list of the (colour weights, frequency). It must then be sorted before or after, and then from there we group the last two together, put it back into the list sorted, then keep doing that, generally speaking. until we have one element left. Actually instead of a list we should turn it into a binary tree of sorts. A list of binary trees and elements. From there, 0 means travel left, 1 means travel right. "
   ]
  },
  {
   "cell_type": "code",
   "execution_count": 16,
   "metadata": {
    "colab": {},
    "colab_type": "code",
    "id": "NvjwWBt_l0JW"
   },
   "outputs": [],
   "source": [
    "\"\"\"\n",
    "This function does a depth first search of the Hoffman binary tree\n",
    "and returns [(Name, BitName)], a list of each name and their encodings\n",
    "in the Hoffman style.\n",
    "\n",
    "Parameters:\n",
    "  tree: the Hoffman tree to search.\n",
    "Returns:\n",
    "  Results: A list of the names and the encodings of these names from the hoffman tree.\n",
    "\"\"\"\n",
    "def searchHoffman(tree):\n",
    "    results = []\n",
    "    if tree.isLeaf():\n",
    "        return [(tree.getName(), tree.getBitName())]\n",
    "    results += (searchHoffman(tree.getRightTree()))\n",
    "    results += (searchHoffman(tree.getLeftTree()))\n",
    "    return results\n",
    "\n",
    "\"\"\"\n",
    "This function, given the results of searchHofffman() above,\n",
    "returns a [(Name, length of Bitstrings)].\n",
    "\n",
    "Parameters:\n",
    "  results: Feed in the results of searchHoffman() above.\n",
    "Returns: A list of names and the length of their bitstring encodings.\n",
    "\"\"\"\n",
    "def getBitLengths(results):\n",
    "    lengths = []\n",
    "    for entry in results:\n",
    "        lengths.append((entry[0], len(entry[1])))\n",
    "    return lengths\n",
    "\n",
    "\"\"\"\n",
    "This function, given a list of names and their frequencies,\n",
    "in (Name, Frequency) style, as well as the total, returns\n",
    "a list in the same style except instead of frequency it is\n",
    "probability.xpect is 7.5. This comes from summing up the probabilities of each number appearing multiplied by the length of its bitstring. I must make a function that lets us calculate this.\n",
    "\n",
    "Parameters:\n",
    "  nameAndFrequency: A [(Name, Frequency)] list.\n",
    "  total: The total/sum of all the Frequencies.\n",
    "Returns:\n",
    "  A list of names and the probability of these names showing up.\n",
    "\"\"\"\n",
    "def calcProbabilities(nameAndFrequency, total):\n",
    "    ## Maybe I should just calculate the total here. Eh, doesn't matter.\n",
    "    probabilityList = []\n",
    "    for entry in nameAndFrequency:\n",
    "        probabilityList.append((entry[0], float(entry[1])/total))\n",
    "    return probabilityList\n",
    "\n",
    "\"\"\"\n",
    "This function, given a list of tuples, sorts the\n",
    "list based on the value of its first element.\n",
    "\n",
    "The intended use is for the summation function to have a\n",
    "nice sorted list to process. Else we're forced to use name matching, \n",
    "and that would be a pain. It only works on numerical names though.\n",
    "\n",
    "Parameters:\n",
    "  alist: The [(name, stuff)] to process on its integer names\n",
    "Returns:\n",
    "  The list, sorted on its integer names.\n",
    "\"\"\"\n",
    "def sortFirst(alist):\n",
    "    if alist == []: return []\n",
    "    return sortFirst([x for x in alist[1:] if x[0] < alist[0][0]]) + [alist[0]] + sortFirst([x for x in alist[1:] if x[0] >= alist[0][0]])"
   ]
  },
  {
   "cell_type": "code",
   "execution_count": 17,
   "metadata": {
    "colab": {
     "base_uri": "https://localhost:8080/",
     "height": 235
    },
    "colab_type": "code",
    "id": "RzOkrX0Y6AcT",
    "outputId": "79c5b669-a823-4e8a-ea43-a2f069115ef1"
   },
   "outputs": [
    {
     "name": "stdout",
     "output_type": "stream",
     "text": [
      "[[0, 0], [1, 1], [2, 2], [3, 3], [4, 4], [5, 5], [6, 6], [7, 7], [8, 8], [9, 9], [10, 10], [11, 11]]\n"
     ]
    },
    {
     "data": {
      "text/plain": [
       "[(0, 6),\n",
       " (1, 6),\n",
       " (2, 5),\n",
       " (3, 4),\n",
       " (4, 4),\n",
       " (5, 4),\n",
       " (6, 3),\n",
       " (7, 3),\n",
       " (8, 3),\n",
       " (9, 3),\n",
       " (10, 3),\n",
       " (11, 3)]"
      ]
     },
     "execution_count": 17,
     "metadata": {},
     "output_type": "execute_result"
    }
   ],
   "source": [
    "#Testing Data\n",
    "test = [[x,x] for x in range(12)]\n",
    "print(test)\n",
    "#test = [[1,2],[2,4],[3,1],[4,3]]#,[5,5],[6,2],[7,2],[8,10],[9,12]]\n",
    "tree= encodeHoffman(test)\n",
    "\n",
    "#Testing the sort function.\n",
    "#sortFirst(calcProbabilities(imageData, imagePixelTotal))\n",
    "sortFirst(searchHoffman(tree))\n",
    "sortFirst(getBitLengths(searchHoffman(tree)))"
   ]
  },
  {
   "cell_type": "code",
   "execution_count": 18,
   "metadata": {
    "colab": {},
    "colab_type": "code",
    "id": "d5CkranQKpWn"
   },
   "outputs": [],
   "source": [
    "#Our actual image.\n",
    "\n",
    "y = image_information(imarray).pixel_count()\n",
    "\n",
    "key_lst = list(y.keys())\n",
    "value_lst = list(y.values())\n",
    "\n",
    "#Turning image frequency data into our algorithm's format.\n",
    "frequency_lst = list(zip(key_lst,value_lst))\n",
    "huffmanFrequencyLst = []\n",
    "for a in (frequency_lst):\n",
    "    a = list(a)\n",
    "    huffmanFrequencyLst.append(a)\n",
    "\n",
    "\"\"\"\n",
    "#Counting total pixels to calculate probabilities.\n",
    "totalPixels = 0\n",
    "for entry in huffmanFrequencyLst:\n",
    "  totalPixels += entry[1]\n",
    "   \n",
    "\"\"\"\n",
    "totalPixels = image_information(imarray).pixel_number()\n",
    "#Calculating probabilities.\n",
    "probLst = calcProbabilities(huffmanFrequencyLst, totalPixels)\n",
    "    "
   ]
  },
  {
   "cell_type": "markdown",
   "metadata": {
    "colab_type": "text",
    "id": "LCOCtMt5xCdO"
   },
   "source": [
    "Not done: The average bit length to expect is 7.5. This comes from summing up the probabilities of each number appearing multiplied by the length of its bitstring. I must make a function that lets us calculate this."
   ]
  },
  {
   "cell_type": "code",
   "execution_count": 19,
   "metadata": {},
   "outputs": [
    {
     "name": "stdout",
     "output_type": "stream",
     "text": [
      "7.505605352652031\n",
      "105054456.99999996\n"
     ]
    }
   ],
   "source": [
    "#Encoding it into a Huffman tree.\n",
    "tree= encodeHoffman(huffmanFrequencyLst)\n",
    "\n",
    "#Testing the sort function.\n",
    "#sortFirst(calcProbabilities(imageData, imagePixelTotal))\n",
    "\n",
    "#Sorting the tree from pixel value 1 to 255.\n",
    "sortFirst(searchHoffman(tree))\n",
    "\n",
    "#Getting the lengths of the bits.\n",
    "bits = (list(sortFirst(getBitLengths(searchHoffman(tree)))))\n",
    "\n",
    "#Sorting the probability list the same way.\n",
    "probLst = list(sortFirst(probLst))\n",
    "\n",
    "shannonExpected = 0\n",
    "\n",
    "#Getting the average weighted bit string length.\n",
    "for index in range(len(bits)):\n",
    "    shannonExpected += bits[index][1] * probLst[index][1]\n",
    "print(shannonExpected)\n",
    "#Expected minimum file size at least by Huffman approximating Shannon.\n",
    "print(shannonExpected * totalPixels)"
   ]
  },
  {
   "cell_type": "code",
   "execution_count": 20,
   "metadata": {},
   "outputs": [],
   "source": [
    "\"\"\"\n",
    "Calculates what Shannon's equation would have us expect to find.\n",
    "Parameters:\n",
    "  problist - our list of probabilities.\n",
    "Returns:\n",
    "  The shannon probability expected for our probability list.\n",
    "\"\"\"\n",
    "def shannonLength(probLst):\n",
    "  sum = 0\n",
    "  for entry in probLst:\n",
    "    sum += entry[1]*np.log2(entry[1])\n",
    "  return -sum"
   ]
  },
  {
   "cell_type": "code",
   "execution_count": 21,
   "metadata": {},
   "outputs": [
    {
     "name": "stdout",
     "output_type": "stream",
     "text": [
      "7.46298855107144\n"
     ]
    }
   ],
   "source": [
    "expectedLength = shannonLength(probLst)\n",
    "print(expectedLength)"
   ]
  },
  {
   "cell_type": "code",
   "execution_count": 22,
   "metadata": {},
   "outputs": [],
   "source": [
    "#Here we actually get our encodings based off the data we have.\n",
    "\n",
    "#Encoding it into a Huffman tree.\n",
    "tree= encodeHoffman(huffmanFrequencyLst)\n",
    "\n",
    "#Testing the sort function.\n",
    "#sortFirst(calcProbabilities(imageData, imagePixelTotal))\n",
    "\n",
    "#Sorting the tree from pixel value 1 to 255.\n",
    "hoffmanBitstrings = sortFirst(searchHoffman(tree))\n",
    "\n",
    "#Getting the lengths of the bits.\n",
    "bits = (list(sortFirst(getBitLengths(searchHoffman(tree)))))\n",
    "\n",
    "#Sorting the probability list the same way.\n",
    "probLst = list(sortFirst(probLst))"
   ]
  },
  {
   "cell_type": "code",
   "execution_count": 23,
   "metadata": {},
   "outputs": [],
   "source": [
    "#Here we get our image data and format it into a form we can use.\n",
    "\n",
    "#Our actual image.\n",
    "\n",
    "y = image_information(imarray).pixel_count()\n",
    "\n",
    "key_lst = list(y.keys())\n",
    "value_lst = list(y.values())\n",
    "\n",
    "#Turning image frequency data into our algorithm's format.\n",
    "frequency_lst = list(zip(key_lst,value_lst))\n",
    "huffmanFrequencyLst = []\n",
    "for a in (frequency_lst):\n",
    "    a = list(a)\n",
    "    huffmanFrequencyLst.append(a)\n",
    "\n",
    "\"\"\"\n",
    "#Counting total pixels to calculate probabilities.\n",
    "totalPixels = 0\n",
    "for entry in huffmanFrequencyLst:\n",
    "  totalPixels += entry[1]\n",
    "   \n",
    "\"\"\"\n",
    "totalPixels = image_information(imarray).pixel_number()\n",
    "#Calculating probabilities.\n",
    "probLst = calcProbabilities(huffmanFrequencyLst, totalPixels)"
   ]
  },
  {
   "cell_type": "code",
   "execution_count": 24,
   "metadata": {},
   "outputs": [],
   "source": [
    "#Here we actually get our encodings based off the data we have.\n",
    "\n",
    "#Encoding it into a Huffman tree.\n",
    "tree= encodeHoffman(huffmanFrequencyLst)\n",
    "\n",
    "#Testing the sort function.\n",
    "#sortFirst(calcProbabilities(imageData, imagePixelTotal))\n",
    "\n",
    "#Sorting the tree from pixel value 1 to 255.\n",
    "hoffmanBitstrings = sortFirst(searchHoffman(tree))\n",
    "\n",
    "#Getting the lengths of the bits.\n",
    "bits = (list(sortFirst(getBitLengths(searchHoffman(tree)))))\n",
    "\n",
    "#Sorting the probability list the same way.\n",
    "probLst = list(sortFirst(probLst))"
   ]
  },
  {
   "cell_type": "code",
   "execution_count": 25,
   "metadata": {},
   "outputs": [
    {
     "name": "stdout",
     "output_type": "stream",
     "text": [
      "7.505605352652031\n",
      "105054456.99999996\n"
     ]
    }
   ],
   "source": [
    "#Here we get our average bit length\n",
    "\n",
    "huffmanAverage = 0\n",
    "\n",
    "#Getting the average weighted bit string length.\n",
    "for index in range(len(bits)):\n",
    "    huffmanAverage += bits[index][1] * probLst[index][1]\n",
    "print(huffmanAverage)\n",
    "#Expected minimum file size at least by Huffman approximating Shannon.\n",
    "print(huffmanAverage * totalPixels)"
   ]
  },
  {
   "cell_type": "code",
   "execution_count": 26,
   "metadata": {},
   "outputs": [],
   "source": [
    "\"\"\"\n",
    "Calculates what Shannon's equation would have us expect to find.\n",
    "Parameters:\n",
    "  problist - our list of probabilities.\n",
    "Returns:\n",
    "  The shannon probability expected for our probability list.\n",
    "\"\"\"\n",
    "def shannonLength(probLst):\n",
    "  sum = 0\n",
    "  for entry in probLst:\n",
    "    sum += entry[1]*np.log2(entry[1])\n",
    "  return -sum"
   ]
  },
  {
   "cell_type": "code",
   "execution_count": 27,
   "metadata": {},
   "outputs": [
    {
     "name": "stdout",
     "output_type": "stream",
     "text": [
      "7.46298855107144\n"
     ]
    }
   ],
   "source": [
    "expectedLength = shannonLength(probLst)\n",
    "print(expectedLength)"
   ]
  },
  {
   "cell_type": "code",
   "execution_count": 29,
   "metadata": {},
   "outputs": [
    {
     "name": "stdout",
     "output_type": "stream",
     "text": [
      "Our encodings were:\n",
      "[(1, '1000001100000000'), (2, '1000001100000001'), (3, '100000110000001'), (4, '10000011000001'), (5, '1000001100001'), (6, '100000110001'), (7, '10101010001'), (8, '1000001110'), (9, '100100100'), (10, '10000000'), (11, '10111110'), (12, '11100100'), (13, '0001011'), (14, '0011001'), (15, '0100011'), (16, '0100010'), (17, '0101111'), (18, '0100101'), (19, '0100001'), (20, '0100100'), (21, '0101101'), (22, '0101011'), (23, '0101100'), (24, '0101110'), (25, '0101010'), (26, '0100111'), (27, '0011000'), (28, '0001000'), (29, '11111010'), (30, '11110110'), (31, '11110011'), (32, '11101011'), (33, '11101101'), (34, '11100101'), (35, '11100011'), (36, '11100001'), (37, '11100000'), (38, '11101000'), (39, '11101001'), (40, '11101010'), (41, '11110000'), (42, '11101100'), (43, '11110100'), (44, '11110010'), (45, '11110111'), (46, '11111110'), (47, '0000100'), (48, '0001010'), (49, '0000101'), (50, '0001001'), (51, '0000010'), (52, '11111100'), (53, '11111011'), (54, '11110101'), (55, '11100010'), (56, '11011101'), (57, '11011001'), (58, '11010010'), (59, '11000101'), (60, '11000010'), (61, '10111011'), (62, '10110111'), (63, '10110100'), (64, '10101111'), (65, '10101101'), (66, '10101011'), (67, '10100111'), (68, '10100101'), (69, '10011111'), (70, '10011101'), (71, '10011100'), (72, '10011000'), (73, '10010111'), (74, '10010101'), (75, '10010011'), (76, '10010000'), (77, '10001011'), (78, '10001010'), (79, '10000100'), (80, '10000010'), (81, '01111100'), (82, '01100101'), (83, '01001101'), (84, '00011111'), (85, '111111011'), (86, '111110000'), (87, '110111111'), (88, '110111101'), (89, '110111100'), (90, '110110000'), (91, '110011111'), (92, '110011110'), (93, '110001110'), (94, '101111111'), (95, '101111001'), (96, '101110101'), (97, '101101010'), (98, '101100100'), (99, '101010101'), (100, '101001101'), (101, '101000101'), (102, '100110011'), (103, '100110010'), (104, '100101001'), (105, '100100101'), (106, '100001011'), (107, '100001010'), (108, '011111011'), (109, '011001101'), (110, '010011001'), (111, '1111111110'), (112, '1111111101'), (113, '1111110101'), (114, '000111101'), (115, '100000011'), (116, '101001100'), (117, '110111110'), (118, '10100011'), (119, '0000011'), (120, '1010000'), (121, '1100100'), (122, '1110111'), (123, '010100'), (124, '011011'), (125, '011110'), (126, '011100'), (127, '011101'), (128, '011010'), (129, '011000'), (130, '001111'), (131, '001010'), (132, '001011'), (133, '001110'), (134, '001001'), (135, '000110'), (136, '000011'), (137, '001000'), (138, '001101'), (139, '000000'), (140, '1110011'), (141, '1101101'), (142, '1101011'), (143, '1101010'), (144, '1101000'), (145, '1100110'), (146, '1100101'), (147, '1100000'), (148, '1011100'), (149, '1011000'), (150, '1010100'), (151, '1001101'), (152, '1000111'), (153, '1000011'), (154, '0111111'), (155, '0100000'), (156, '11111001'), (157, '11011100'), (158, '11001110'), (159, '11000100'), (160, '10111101'), (161, '10110110'), (162, '10101100'), (163, '10011110'), (164, '10010001'), (165, '10001001'), (166, '10001000'), (167, '01100111'), (168, '111100011'), (169, '110100111'), (170, '110000110'), (171, '101101011'), (172, '101100111'), (173, '101100101'), (174, '101001001'), (175, '100101101'), (176, '100011011'), (177, '100101000'), (178, '100101100'), (179, '100011000'), (180, '011001000'), (181, '1111110100'), (182, '011001001'), (183, '101001000'), (184, '110001100'), (185, '110001101'), (186, '101011101'), (187, '100011010'), (188, '1111111100'), (189, '1100011110'), (190, '1010001000'), (191, '11111111110'), (192, '11000111111'), (193, '10111100001'), (194, '10111010011'), (195, '10111010000'), (196, '10110011000'), (197, '10101110011'), (198, '10100010011'), (199, '10101010000'), (200, '10101110010'), (201, '10101110000'), (202, '10101010011'), (203, '10101110001'), (204, '10110011011'), (205, '10110011010'), (206, '10111010001'), (207, '10111010010'), (208, '10111100011'), (209, '10111111010'), (210, '11010011001'), (211, '11010011011'), (212, '11011000111'), (213, '11110001001'), (214, '11011000101'), (215, '11000011110'), (216, '11000111110'), (217, '11011000100'), (218, '11110001010'), (219, '0111110100'), (220, '1000001111'), (221, '1000110010'), (222, '1000000100'), (223, '0111110101'), (224, '1000001101'), (225, '1000000101'), (226, '0110011001'), (227, '0100110001'), (228, '0001111001'), (229, '11111000101'), (230, '11111000110'), (231, '11110001011'), (232, '11111000111'), (233, '11111000100'), (234, '0001111000'), (235, '0100110000'), (236, '0110011000'), (237, '11110001000'), (238, '11010011000'), (239, '10111100010'), (240, '10110011001'), (241, '10111100000'), (242, '10111111011'), (243, '10111111001'), (244, '10111111000'), (245, '10100010010'), (246, '10000011001'), (247, '10001100110'), (248, '10001100111'), (249, '10101010010'), (250, '11000011111'), (251, '11010011010'), (252, '11011000110'), (253, '11111111111'), (254, '1100001110'), (255, '0001110')]\n",
      "Our average length was:\n",
      "7.505605352652031\n",
      "The expected size of the encoding was:\n",
      "105054456.99999996\n",
      "Our average length is smaller than in the original TIF file, producing a file size that is slightly smaller\n",
      "It is much bigger than the files and sizes in part B, however, since many of the image compression methods in part B are either lossy or appear to be superior.\n",
      "Shannon's stuff expects that we have an average bit length of\n",
      "7.46298855107144\n",
      "Compared to our Hoffman encoding, Shannon's expected bit length is smaller\n",
      "We can see that the hoffman encoding tries to approach the mean bit length of Shannon, but Shannon's is still smaller. Hoffman encoding does not equal Shannon.\n",
      "Thus all results match including the expected size for the jpeg\n"
     ]
    }
   ],
   "source": [
    "#Summary of all our data:\n",
    "#Our bitstrings\n",
    "print(\"Our encodings were:\")\n",
    "print(hoffmanBitstrings)\n",
    "#Our encoded average length\n",
    "print(\"Our average length was:\")\n",
    "print(huffmanAverage)\n",
    "#Our encoding size\n",
    "print(\"The expected size of the encoding was:\")\n",
    "print(huffmanAverage * totalPixels)\n",
    "#Comparison to part A and B\n",
    "print(\"Our average length is smaller than in the original TIF file, producing a file size that is slightly smaller\")\n",
    "print(\"It is much bigger than the files and sizes in part B, however, since many of the image compression methods in part B are either lossy or appear to be superior.\")\n",
    "#Shannon's prediction\n",
    "print(\"Shannon's stuff expects that we have an average bit length of\")\n",
    "print(expectedLength)\n",
    "#Our comparison\n",
    "print(\"Compared to our Hoffman encoding, Shannon's expected bit length is smaller\")\n",
    "print(\"We can see that the hoffman encoding tries to approach the mean bit length of Shannon, but Shannon's is still smaller. Hoffman encoding does not equal Shannon.\")\n",
    "#print(\"That is what I think we're supposed to say. But we can't actually calculate the Shannon Entropy. We're getting insane numbers because we did something wrong, sorry.\")\n",
    "\n",
    "print(\"Thus all results match including the expected size for the jpeg\")"
   ]
  },
  {
   "cell_type": "code",
   "execution_count": null,
   "metadata": {},
   "outputs": [],
   "source": []
  }
 ],
 "metadata": {
  "colab": {
   "collapsed_sections": [],
   "name": "Chapter2a.ipynb",
   "provenance": []
  },
  "kernelspec": {
   "display_name": "Python 3",
   "language": "python",
   "name": "python3"
  },
  "language_info": {
   "codemirror_mode": {
    "name": "ipython",
    "version": 3
   },
   "file_extension": ".py",
   "mimetype": "text/x-python",
   "name": "python",
   "nbconvert_exporter": "python",
   "pygments_lexer": "ipython3",
   "version": "3.7.4"
  }
 },
 "nbformat": 4,
 "nbformat_minor": 1
}
