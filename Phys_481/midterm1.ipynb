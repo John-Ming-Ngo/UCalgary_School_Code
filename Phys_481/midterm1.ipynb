{
 "cells": [
  {
   "cell_type": "markdown",
   "metadata": {},
   "source": [
    "# Midterm 1 (40 points)\n",
    "\n",
    "## Tuesday, October 15, 1530 - 1730\n",
    "\n",
    "Instructions: Complete all questions to the best of your abilities. Unlike your assignments, carefully commenting your code and providing evidence for testing is not required; you don't have time for that! Instead, spend your time coding, generating results, and discussing them. Don't panic and try to have some fun!"
   ]
  },
  {
   "cell_type": "markdown",
   "metadata": {},
   "source": [
    "## John Ming Ngo, 30020834"
   ]
  },
  {
   "cell_type": "code",
   "execution_count": 66,
   "metadata": {},
   "outputs": [],
   "source": [
    "import numpy as np\n",
    "import matplotlib.pyplot as plt\n",
    "import random\n",
    "import math"
   ]
  },
  {
   "cell_type": "markdown",
   "metadata": {},
   "source": [
    "Earlier in the term, we considered the statistics of flipping a coin many many times. We had assumed that the coin was fair, i.e. that the probability of heads was the same as tails. Now let's consider flipping an unfair, or biased, coin where the probability of getting heads is $p$, while the probability of getting tails is evidently $q=1-p$. We can think of heads as bit value 1 while tails is bit value 0 (or the other way around, it's up to you!).\n",
    "\n",
    "### 1 (10 points): Entropy of the biased coin\n",
    "Write a Python program to randomly flip the biased coin $N$ times, for $0.05\\leq p\\leq 0.5$ in $0.05$ increments. Obtain the Shannon entropy of the resulting $N$-digit bit strings, and compare to the theoretical values. Be sure choose $N$ sufficiently large that you obtain a good sample size.\n",
    "\n",
    "### 2 (30 points): Biased coin distribution functions. \n",
    "\n",
    "**(a) (10 points)** By randomly flipping the biased coin (not using the theoretical function!), calculate the macrostate probability $P(n)$, where $n$ is the number of heads and $N=200$ is the total number of flips, again for $0.05\\leq p\\leq 0.5$ in $0.05$ increments. Plot the probabilities as a function of $n$, for all values of $p$ all on the same figure. Comment on the qualitative features of the distribution functions and interpret in the context of entropy. \n",
    "\n",
    "**(b) (5 points)** Calculate the means and widths of the distribution functions for the results found in (a), and compare these with the theoretical values.\n",
    "\n",
    "**(c) (10 points)** Repeat the calculations in (b), but now for $p\\ll 1$, in particular the range $0.01\\leq p\\leq 0.1$ in intervals of $0.01$. Plot the distribution width as a function of $p$ for this range on a log-log scale, and find the best fit. Comment on the results.\n",
    "\n",
    "**(d) (5 points)** The Poisson distribution \n",
    "$$P(n)=\\frac{\\overline{n}^ne^{-\\overline{n}}}{n!}$$\n",
    "applies when $p\\ll 1$, such as considered in (c). In this expression, $\\overline{n}=Np$ is the mean value of the distribution function. (Note: in Python $n!$ can be evaluated using math.factorial(n), so you'll need to import math). For $p=0.05$, compare visually the normal distribution function to the Poisson distribution function. Interpret the shape."
   ]
  },
  {
   "cell_type": "markdown",
   "metadata": {},
   "source": [
    "### 1 (10 points): Entropy of the biased coin\n",
    "Write a Python program to randomly flip the biased coin $N$ times, for $0.05\\leq p\\leq 0.5$ in $0.05$ increments. Obtain the Shannon entropy of the resulting $N$-digit bit strings, and compare to the theoretical values. Be sure choose $N$ sufficiently large that you obtain a good sample size."
   ]
  },
  {
   "cell_type": "code",
   "execution_count": 104,
   "metadata": {},
   "outputs": [],
   "source": [
    "import numpy as np\n",
    "import numpy.random as rand\n",
    "import matplotlib.pyplot as plt"
   ]
  },
  {
   "cell_type": "code",
   "execution_count": 105,
   "metadata": {},
   "outputs": [],
   "source": [
    "\"\"\"\n",
    "Feder's Code\n",
    "\"\"\"\n",
    "def symbol_entropy(datalist):\n",
    "  \n",
    "# Estimate the Shannon entropy for a sequence of symbols.\n",
    "\n",
    "  hist = {}\n",
    "  for item in datalist:\n",
    "   if item not in hist:\n",
    "     hist[item] = 1\n",
    "   else:\n",
    "     hist[item] += 1\n",
    "    \n",
    "  counts = np.array( [hist[item] for item in hist])\n",
    "  prob = counts / np.sum(counts)\n",
    "  prob = prob[ prob != 0 ] #; print(prob)\n",
    "  entropy = -np.sum( prob * np.log2(prob) )\n",
    "  \n",
    "  return entropy"
   ]
  },
  {
   "cell_type": "code",
   "execution_count": 106,
   "metadata": {},
   "outputs": [],
   "source": [
    "\"\"\"\n",
    "1 is head, 0 is tails\n",
    "Biased flip\n",
    "\"\"\"\n",
    "def bFlip(pHead):\n",
    "    return (1 if rand.random() < pHead else 0)\n",
    "\"\"\"\n",
    "List of bias flip results\n",
    "\"\"\"\n",
    "def manyBFlip(pHead, iters):\n",
    "    res = []\n",
    "    for i in range(iters):\n",
    "        res.append(bFlip(pHead))\n",
    "    return res"
   ]
  },
  {
   "cell_type": "code",
   "execution_count": 107,
   "metadata": {},
   "outputs": [
    {
     "name": "stdout",
     "output_type": "stream",
     "text": [
      "[0.290207860300911, 0.4712106218705926, 0.6040544980965028, 0.7257118579402129, 0.8011392980163472, 0.8716738043410103, 0.9228919718923305, 0.972904754541793, 0.9943300189935504, 0.9999906513159418]\n"
     ]
    }
   ],
   "source": [
    "\"\"\"\n",
    "Our set variables\n",
    "\"\"\"\n",
    "pHead = [x*0.05 for x in range(1, 11)] #P from 0.05 to 0.5 in 0.05 increments\n",
    "iters = 10000\n",
    "\n",
    "\"\"\"\n",
    "Find our expected entropy.\n",
    "\"\"\"\n",
    "sEntropies = []\n",
    "for prob in pHead:\n",
    "    res = manyBFlip(prob, iters)\n",
    "    sEnt = symbol_entropy(res)\n",
    "    #print(res)\n",
    "    #print(sEnt)\n",
    "    sEntropies.append(sEnt)\n",
    "print(sEntropies)"
   ]
  },
  {
   "cell_type": "code",
   "execution_count": 117,
   "metadata": {},
   "outputs": [],
   "source": [
    "#theoretical shannon entropy values (Comes from the equation):\n",
    "def shannonExpected(pHead):\n",
    "    return (-1)*((pHead * np.log2(pHead)) + ((1-pHead) * np.log2((1-pHead))))\n"
   ]
  },
  {
   "cell_type": "code",
   "execution_count": 118,
   "metadata": {},
   "outputs": [
    {
     "name": "stdout",
     "output_type": "stream",
     "text": [
      "[0.28639695711595625, 0.4689955935892812, 0.6098403047164005, 0.7219280948873623, 0.8112781244591328, 0.8812908992306927, 0.9340680553754911, 0.9709505944546686, 0.9927744539878083, 1.0]\n"
     ]
    }
   ],
   "source": [
    "theoreticalShannon = []\n",
    "for entry in pHead:\n",
    "    theoreticalShannon.append(shannonExpected(entry))\n",
    "print(theoreticalShannon)"
   ]
  },
  {
   "cell_type": "code",
   "execution_count": 182,
   "metadata": {},
   "outputs": [
    {
     "name": "stdout",
     "output_type": "stream",
     "text": [
      "Let's recap what I found:\n",
      "\n",
      "Our attained entropies were:\n",
      "[0.290207860300911, 0.4712106218705926, 0.6040544980965028, 0.7257118579402129, 0.8011392980163472, 0.8716738043410103, 0.9228919718923305, 0.972904754541793, 0.9943300189935504, 0.9999906513159418]\n",
      "\n",
      "The theoretical entropies were:\n",
      "[0.28639695711595625, 0.4689955935892812, 0.6098403047164005, 0.7219280948873623, 0.8112781244591328, 0.8812908992306927, 0.9340680553754911, 0.9709505944546686, 0.9927744539878083, 1.0]\n",
      "\n",
      "The total difference between the two was:\n",
      "0.05004657973156784\n"
     ]
    }
   ],
   "source": [
    "print(\"Let's recap what I found:\")\n",
    "print()\n",
    "\n",
    "print(\"Our attained entropies were:\")\n",
    "print(sEntropies)\n",
    "\n",
    "print()\n",
    "\n",
    "print(\"The theoretical entropies were:\")\n",
    "print(theoreticalShannon)\n",
    "\n",
    "print()\n",
    "\n",
    "print(\"The total difference between the two was:\")\n",
    "print(np.sum(np.abs(np.abs(np.array(theoreticalShannon)) - np.abs(np.array(sEntropies)))))"
   ]
  },
  {
   "cell_type": "markdown",
   "metadata": {},
   "source": [
    "#### As we can see, the entropies of our simulated unfair coin was extremely close to the theoretical values of entropy given the probabilities for the Shannon encoding. The difference between the theoretical and actual results, all added up, was extremely small, indicating that our simulation was correct."
   ]
  },
  {
   "cell_type": "markdown",
   "metadata": {},
   "source": [
    "### 2 (30 points): Biased coin distribution functions. \n",
    "\n",
    "**(a) (10 points)** By randomly flipping the biased coin (not using the theoretical function!), calculate the macrostate probability $P(n)$, where $n$ is the number of heads and $N=200$ is the total number of flips, again for $0.05\\leq p\\leq 0.5$ in $0.05$ increments. Plot the probabilities as a function of $n$, for all values of $p$ all on the same figure. Comment on the qualitative features of the distribution functions and interpret in the context of entropy. \n",
    "\n",
    "**(b) (5 points)** Calculate the means and widths of the distribution functions for the results found in (a), and compare these with the theoretical values.\n",
    "\n",
    "**(c) (10 points)** Repeat the calculations in (b), but now for $p\\ll 1$, in particular the range $0.01\\leq p\\leq 0.1$ in intervals of $0.01$. Plot the distribution width as a function of $p$ for this range on a log-log scale, and find the best fit. Comment on the results.\n",
    "\n",
    "**(d) (5 points)** The Poisson distribution \n",
    "$$P(n)=\\frac{\\overline{n}^ne^{-\\overline{n}}}{n!}$$\n",
    "applies when $p\\ll 1$, such as considered in (c). In this expression, $\\overline{n}=Np$ is the mean value of the distribution function. (Note: in Python $n!$ can be evaluated using math.factorial(n), so you'll need to import math). For $p=0.05$, compare visually the normal distribution function to the Poisson distribution function. Interpret the shape."
   ]
  },
  {
   "cell_type": "code",
   "execution_count": 147,
   "metadata": {},
   "outputs": [],
   "source": [
    "def manyBFlipSum(pHead, iters):\n",
    "    res = []\n",
    "    for i in range(iters):\n",
    "        res.append(bFlip(pHead))\n",
    "    return sum(res)\n",
    "\n",
    "def macroBFlip(pHead, N, numIter):\n",
    "    res = []\n",
    "    for i in range(numIter):\n",
    "        res.append(manyBFlipSum(pHead, N))\n",
    "    return res\n",
    "\n",
    "def normalize(lst):\n",
    "    return np.array(lst)/sum(lst)"
   ]
  },
  {
   "cell_type": "code",
   "execution_count": 191,
   "metadata": {},
   "outputs": [],
   "source": [
    "def itemCount(aList):\n",
    "  aDict = {}\n",
    "  for entry in aList:\n",
    "    aDict[entry] = 1 if entry not in aDict.keys() else aDict[entry] + 1\n",
    "  return aDict\n",
    "\n",
    "def toList(aDict):\n",
    "  result = []\n",
    "  resultX = []\n",
    "  resultY = []\n",
    "  for key, value in aDict.items():\n",
    "    result.append((key, value))\n",
    "    resultX.append(key)\n",
    "    resultY.append(value)\n",
    "  return result, resultX, resultY\n",
    "\n",
    "def srtFst(aList):\n",
    "  if (aList == []): return []\n",
    "  lst = aList\n",
    "  fstEntry = lst.pop()\n",
    "  return srtFst([x for x in lst if x[0] < fstEntry[0]]) + [fstEntry] + srtFst([x for x in lst if x[0] >= fstEntry[0]])\n",
    "\n",
    "def unzip(lst):\n",
    "  x = []\n",
    "  y = []\n",
    "  for entry in lst:\n",
    "    x.append(entry[0])\n",
    "    y.append(entry[1])\n",
    "  return x, y\n"
   ]
  },
  {
   "cell_type": "markdown",
   "metadata": {},
   "source": [
    "**(a) (10 points)** By randomly flipping the biased coin (not using the theoretical function!), calculate the macrostate probability $P(n)$, where $n$ is the number of heads and $N=200$ is the total number of flips, again for $0.05\\leq p\\leq 0.5$ in $0.05$ increments. Plot the probabilities as a function of $n$, for all values of $p$ all on the same figure. Comment on the qualitative features of the distribution functions and interpret in the context of entropy. "
   ]
  },
  {
   "cell_type": "code",
   "execution_count": 192,
   "metadata": {},
   "outputs": [],
   "source": [
    "#Q1\n",
    "numIter = 30000\n",
    "N = 200\n",
    "pHead = [x*0.05 for x in range(1, 11)] #P from 0.05 to 0.5 in 0.05 increments\n",
    "\n",
    "Xs = []\n",
    "Ys = []\n",
    "Ynorm = []\n",
    "rawRes = []\n",
    "for p in pHead:\n",
    "    res = macroBFlip(p, N, numIter)\n",
    "    rawRes.append(res)\n",
    "    \n",
    "    numItems = itemCount(res)\n",
    "    numItems, itemsX, itemsY = toList(numItems)\n",
    "    \n",
    "    sortedItems = srtFst(numItems)\n",
    "    resX, resY = unzip(sortedItems)\n",
    "    resYnormed = normalize(resY)\n",
    "    \n",
    "    Xs.append(resX)\n",
    "    Ys.append(resY)\n",
    "    Ynorm.append(resYnormed)"
   ]
  },
  {
   "cell_type": "code",
   "execution_count": 193,
   "metadata": {},
   "outputs": [
    {
     "data": {
      "text/plain": [
       "<matplotlib.legend.Legend at 0x7f7b91c52080>"
      ]
     },
     "execution_count": 193,
     "metadata": {},
     "output_type": "execute_result"
    },
    {
     "data": {
      "image/png": "[encoded data removed]",
      "text/plain": [
       "<Figure size 432x288 with 1 Axes>"
      ]
     },
     "metadata": {
      "needs_background": "light"
     },
     "output_type": "display_data"
    }
   ],
   "source": [
    "plt.title(\"Distribution Functions for Differing Probabilities of Heads for an Unfair Coin\")\n",
    "plt.xlabel(\"Number of Heads\")\n",
    "plt.ylabel(\"Probability\")\n",
    "for i in range(len(pHead)):\n",
    "    plt.plot(Xs[i], Ynorm[i], label = \"p = {}\".format(pHead[i]))\n",
    "plt.legend()"
   ]
  },
  {
   "cell_type": "markdown",
   "metadata": {},
   "source": [
    "#### As we can see from our above graph, as the probability of getting a head increases, the graphs are placed with a mean further to the right, and with a larger width, along with a smaller height. This is because as the probabilities become more balanced, the entropy increases. That is, a wider width of distributions means you're more likely to get results all over the place, meaning that your randomness is higher, meaning that your entropy is higher as per the Shannon entropy equation. Alternatively, you can see it as that 0.5log(0.5) + 0.5log(0.5) > 0.9log(0.9) + 0.1log(0.1) , as the bigger 0.9log(0.9) term just doesn't counteract the smaller size of the 0.1 term, and as such more balanced probabilities have higher entropies which translate to a wider curve."
   ]
  },
  {
   "cell_type": "code",
   "execution_count": 194,
   "metadata": {},
   "outputs": [
    {
     "name": "stdout",
     "output_type": "stream",
     "text": [
      "[3.6642940119830154, 4.13175852435907, 4.377084077637095, 4.550153384264783, 4.6622155896032815, 4.746987469891013, 4.7962162158292365, 4.844154901974083, 4.856176314142288, 4.863475103561228]\n"
     ]
    }
   ],
   "source": [
    "## I can prove that by just finding their entropies. Ready?\n",
    "entropies = []\n",
    "for result in rawRes:\n",
    "    entropies.append(symbol_entropy(result))\n",
    "print(entropies)"
   ]
  },
  {
   "cell_type": "markdown",
   "metadata": {},
   "source": [
    "#### The above list, ordered from lowest p to highest p, shows that as our probabilities of getting a head increase, up to 0.5 at least,  have greater entropies, and that greater entropies corrispond to a lower and wider graph as above."
   ]
  },
  {
   "cell_type": "markdown",
   "metadata": {},
   "source": [
    "**(b) (5 points)** Calculate the means and widths of the distribution functions for the results found in (a), and compare these with the theoretical values."
   ]
  },
  {
   "cell_type": "code",
   "execution_count": 195,
   "metadata": {},
   "outputs": [],
   "source": [
    "#Q2\n",
    "#Means:\n",
    "means = []\n",
    "for entry in rawRes:\n",
    "    means.append(np.mean(entry))\n",
    "    \n",
    "widths = []\n",
    "#Width of a Gaussian is its standard deviation\n",
    "for entry in rawRes:\n",
    "    widths.append(np.std(entry))"
   ]
  },
  {
   "cell_type": "code",
   "execution_count": 196,
   "metadata": {},
   "outputs": [
    {
     "name": "stdout",
     "output_type": "stream",
     "text": [
      "The means were:\n",
      "[10.004433333333333, 20.021533333333334, 29.938233333333333, 40.044866666666664, 49.96296666666667, 59.987066666666664, 69.94406666666667, 80.0061, 90.0193, 100.00923333333333]\n",
      "\n",
      "The widths were:\n",
      "[3.093651619939704, 4.2582942182156565, 5.038923649506465, 5.678056033146869, 6.135193167202552, 6.50624054752222, 6.730072173626538, 6.957575927720803, 7.0140711556603605, 7.052679023762689]\n"
     ]
    }
   ],
   "source": [
    "print(\"The means were:\")\n",
    "print(means)\n",
    "\n",
    "print()\n",
    "\n",
    "print(\"The widths were:\")\n",
    "print(widths)"
   ]
  },
  {
   "cell_type": "markdown",
   "metadata": {},
   "source": [
    "The standard deviation, the square root of the variance, is therefore\n",
    "$\\Delta n_1=\\sqrt{Npq}=\\sqrt{N}/2$ for a fair coin."
   ]
  },
  {
   "cell_type": "code",
   "execution_count": 197,
   "metadata": {},
   "outputs": [],
   "source": [
    "#Theoretical values: For a coin over a number of throws, it is probability result * num throws.\n",
    "def theoreticalMean(pHead, numThrows):\n",
    "    return (pHead * numThrows)\n",
    " \n",
    "#Theoretical width is a gaussian, scaling as N^(1/2). Actually, see the markup code above. It's sqrt(Npq)\n",
    "def theoreticalWidth(pHead, numThrows):\n",
    "    return np.sqrt(numThrows * pHead * (1-pHead))"
   ]
  },
  {
   "cell_type": "code",
   "execution_count": 198,
   "metadata": {},
   "outputs": [
    {
     "name": "stdout",
     "output_type": "stream",
     "text": [
      "Theoretical means were:\n",
      "[10.0, 20.0, 30.000000000000004, 40.0, 50.0, 60.00000000000001, 70.0, 80.0, 90.0, 100.0]\n",
      "\n",
      "Theoretical widths were:\n",
      "[3.082207001484488, 4.242640687119285, 5.04975246918104, 5.656854249492381, 6.123724356957945, 6.48074069840786, 6.74536878161602, 6.928203230275509, 7.035623639735145, 7.0710678118654755]\n"
     ]
    }
   ],
   "source": [
    "theoreticalMeans = []\n",
    "for entry in pHead:\n",
    "    theoreticalMeans.append(theoreticalMean(entry, N))\n",
    "\n",
    "theoreticalWidths = []\n",
    "for entry in pHead:\n",
    "    theoreticalWidths.append(theoreticalWidth(entry, N))\n",
    "    \n",
    "print(\"Theoretical means were:\")\n",
    "print(theoreticalMeans)\n",
    "\n",
    "print()\n",
    "\n",
    "print(\"Theoretical widths were:\")\n",
    "print(theoreticalWidths)"
   ]
  },
  {
   "cell_type": "code",
   "execution_count": 199,
   "metadata": {},
   "outputs": [
    {
     "name": "stdout",
     "output_type": "stream",
     "text": [
      "To Recap:\n",
      "\n",
      "The experimental means were:\n",
      "[10.004433333333333, 20.021533333333334, 29.938233333333333, 40.044866666666664, 49.96296666666667, 59.987066666666664, 69.94406666666667, 80.0061, 90.0193, 100.00923333333333]\n",
      "\n",
      "The theoretical widths were:\n",
      "[3.093651619939704, 4.2582942182156565, 5.038923649506465, 5.678056033146869, 6.135193167202552, 6.50624054752222, 6.730072173626538, 6.957575927720803, 7.0140711556603605, 7.052679023762689]\n",
      "The experimental means were:\n",
      "[10.0, 20.0, 30.000000000000004, 40.0, 50.0, 60.00000000000001, 70.0, 80.0, 90.0, 100.0]\n",
      "\n",
      "The theoretical widths were:\n",
      "[3.082207001484488, 4.242640687119285, 5.04975246918104, 5.656854249492381, 6.123724356957945, 6.48074069840786, 6.74536878161602, 6.928203230275509, 7.035623639735145, 7.0710678118654755]\n",
      "\n",
      "The total difference between the experimental and theoretical means were:\n",
      "0.2731333333333392\n",
      "\n",
      "The total difference between the experimental and theoretical widths were:\n",
      "0.1807079898519639\n"
     ]
    }
   ],
   "source": [
    "print(\"To Recap:\")\n",
    "print()\n",
    "\n",
    "print(\"The experimental means were:\")\n",
    "print(means)\n",
    "\n",
    "print()\n",
    "\n",
    "print(\"The theoretical widths were:\")\n",
    "print(widths)\n",
    "\n",
    "\n",
    "print(\"The experimental means were:\")\n",
    "print(theoreticalMeans)\n",
    "\n",
    "print()\n",
    "\n",
    "print(\"The theoretical widths were:\")\n",
    "print(theoreticalWidths)\n",
    "\n",
    "print()\n",
    "\n",
    "print(\"The total difference between the experimental and theoretical means were:\")\n",
    "print(np.sum(np.abs(np.abs(np.array(means)) - np.abs(np.array(theoreticalMeans)))))\n",
    "\n",
    "print()\n",
    "\n",
    "print(\"The total difference between the experimental and theoretical widths were:\")\n",
    "print(np.sum(np.abs(np.abs(np.array(widths)) - np.abs(np.array(theoreticalWidths)))))\n"
   ]
  },
  {
   "cell_type": "markdown",
   "metadata": {},
   "source": [
    "#### As we can see from the total differences between the theoretical and experimental values being tiny, our experimental means and widths are very close to the theoretical means and widths, confirming that we did what we wanted to do."
   ]
  },
  {
   "cell_type": "markdown",
   "metadata": {},
   "source": [
    "**(c) (10 points)** Repeat the calculations in (b), but now for $p\\ll 1$, in particular the range $0.01\\leq p\\leq 0.1$ in intervals of $0.01$. Plot the distribution width as a function of $p$ for this range on a log-log scale, and find the best fit. Comment on the results."
   ]
  },
  {
   "cell_type": "code",
   "execution_count": 208,
   "metadata": {},
   "outputs": [],
   "source": [
    "#Q3\n",
    "pHead = [x*0.01 for x in range(1, 11)] #P from 0.01 to 0.1 in 0.01 increments\n",
    "\n",
    "numIter = 30000\n",
    "N = 200\n",
    "\n",
    "Xs = []\n",
    "Ys = []\n",
    "Ynorm = []\n",
    "rawRes = []\n",
    "for p in pHead:\n",
    "    res = macroBFlip(p, N, numIter)\n",
    "    rawRes.append(res)\n",
    "    \n",
    "    numItems = itemCount(res)\n",
    "    numItems, itemsX, itemsY = toList(numItems)\n",
    "    \n",
    "    sortedItems = srtFst(numItems)\n",
    "    resX, resY = unzip(sortedItems)\n",
    "    resYnormed = normalize(resY)\n",
    "    \n",
    "    Xs.append(resX)\n",
    "    Ys.append(resY)\n",
    "    Ynorm.append(resYnormed)"
   ]
  },
  {
   "cell_type": "code",
   "execution_count": 209,
   "metadata": {},
   "outputs": [
    {
     "data": {
      "text/plain": [
       "[<matplotlib.lines.Line2D at 0x7f7b912a3860>]"
      ]
     },
     "execution_count": 209,
     "metadata": {},
     "output_type": "execute_result"
    },
    {
     "data": {
      "image/png": "[encoded data removed]",
      "text/plain": [
       "<Figure size 432x288 with 1 Axes>"
      ]
     },
     "metadata": {
      "needs_background": "light"
     },
     "output_type": "display_data"
    }
   ],
   "source": [
    "#Widths\n",
    "widths = []\n",
    "#Width of a Gaussian is its standard deviation\n",
    "for entry in rawRes:\n",
    "    widths.append(np.std(entry))\n",
    "    \n",
    "#plotData = zip(pHead, widths)\n",
    "\n",
    "plt.loglog(pHead, widths, 'ro')"
   ]
  },
  {
   "cell_type": "markdown",
   "metadata": {},
   "source": [
    "#### This looks very linear! However, note that we are looking at an extremely small portion of the domain; for sufficiently small portions of the domain of any smooth graph, it will start to look linear. That said, let's find a relevant linear line of best fit."
   ]
  },
  {
   "cell_type": "code",
   "execution_count": 211,
   "metadata": {},
   "outputs": [
    {
     "name": "stdout",
     "output_type": "stream",
     "text": [
      "log(prob) prefactor (m term): 0.4764614356256646\n",
      "b term from mx + b: 2.547294026577406\n"
     ]
    },
    {
     "data": {
      "image/png": "[encoded data removed]",
      "text/plain": [
       "<Figure size 432x288 with 1 Axes>"
      ]
     },
     "metadata": {
      "needs_background": "light"
     },
     "output_type": "display_data"
    }
   ],
   "source": [
    "#Finding best fit\n",
    "fits = np.polyfit(np.log(pHead), np.log(widths), 1)\n",
    "\n",
    "#Original\n",
    "plt.plot(np.log(pHead), np.log(widths), 'ro')\n",
    "\n",
    "#Fit\n",
    "plt.title(\"Loglog graph of distribution function means vs probabilities\")\n",
    "plt.plot(np.log(pHead), np.log(pHead) * fits[0] + fits[1])\n",
    "plt.xlabel(\"Log of the distribution function probabilties\")\n",
    "plt.ylabel(\"Log of the distribution function mean\")\n",
    "\n",
    "print(\"log(prob) prefactor (m term): {}\".format(fits[0]))\n",
    "print(\"b term from mx + b: {}\".format(fits[1]))"
   ]
  },
  {
   "cell_type": "markdown",
   "metadata": {},
   "source": [
    "#### As expected, we got a good linear fit. It appears that this region of probabilities can indeed be probably approximated with a linear fit. However, note the devication like a curve near the top - it's not massive, but it's also our first hint that for the whole range of probabilities it probably isn't a straight up linear fit. In fact, I'll show it below. Not strictly necessary though."
   ]
  },
  {
   "cell_type": "code",
   "execution_count": 212,
   "metadata": {},
   "outputs": [],
   "source": [
    "#Q3 - Showing that the whole thing isn't really linear\n",
    "pHead = [x*0.1 for x in range(1, 10)] #P from 0.1 to 0.9 in 0.1 increments\n",
    "\n",
    "numIter = 30000\n",
    "N = 200\n",
    "\n",
    "Xs = []\n",
    "Ys = []\n",
    "Ynorm = []\n",
    "rawRes = []\n",
    "for p in pHead:\n",
    "    res = macroBFlip(p, N, numIter)\n",
    "    rawRes.append(res)\n",
    "    \n",
    "    numItems = itemCount(res)\n",
    "    numItems, itemsX, itemsY = toList(numItems)\n",
    "    \n",
    "    sortedItems = srtFst(numItems)\n",
    "    resX, resY = unzip(sortedItems)\n",
    "    resYnormed = normalize(resY)\n",
    "    \n",
    "    Xs.append(resX)\n",
    "    Ys.append(resY)\n",
    "    Ynorm.append(resYnormed)"
   ]
  },
  {
   "cell_type": "code",
   "execution_count": 213,
   "metadata": {},
   "outputs": [
    {
     "data": {
      "text/plain": [
       "[<matplotlib.lines.Line2D at 0x7f7b91224b00>]"
      ]
     },
     "execution_count": 213,
     "metadata": {},
     "output_type": "execute_result"
    },
    {
     "data": {
      "image/png": "[encoded data removed]",
      "text/plain": [
       "<Figure size 432x288 with 1 Axes>"
      ]
     },
     "metadata": {
      "needs_background": "light"
     },
     "output_type": "display_data"
    }
   ],
   "source": [
    "#Widths\n",
    "widths = []\n",
    "#Width of a Gaussian is its standard deviation\n",
    "for entry in rawRes:\n",
    "    widths.append(np.std(entry))\n",
    "    \n",
    "#plotData = zip(pHead, widths)\n",
    "\n",
    "plt.loglog(pHead, widths, 'ro')"
   ]
  },
  {
   "cell_type": "markdown",
   "metadata": {},
   "source": [
    "### See? Big scale distribution width with probs from 0 to 0.9 not linear! Only for our region 0.01-0.10, and even then it is an approximation!"
   ]
  },
  {
   "cell_type": "markdown",
   "metadata": {},
   "source": [
    "**(d) (5 points)** The Poisson distribution \n",
    "$$P(n)=\\frac{\\overline{n}^ne^{-\\overline{n}}}{n!}$$\n",
    "applies when $p\\ll 1$, such as considered in (c). In this expression, $\\overline{n}=Np$ is the mean value of the distribution function. (Note: in Python $n!$ can be evaluated using math.factorial(n), so you'll need to import math). For $p=0.05$, compare visually the normal distribution function to the Poisson distribution function. Interpret the shape."
   ]
  },
  {
   "cell_type": "code",
   "execution_count": 214,
   "metadata": {},
   "outputs": [],
   "source": [
    "#Q4\n",
    "import math\n",
    "\n",
    "def poissonProb(n, mean):\n",
    "    fac = math.factorial(n)\n",
    "    nBar = mean\n",
    "    expN = np.exp(-nBar)\n",
    "    nBarn = nBar**n\n",
    "    #print(nBarn)\n",
    "    return (nBarn * expN) / fac"
   ]
  },
  {
   "cell_type": "code",
   "execution_count": 215,
   "metadata": {},
   "outputs": [],
   "source": [
    "#From Q1, modified\n",
    "numIter = 30000\n",
    "N = 200\n",
    "pHead = [x*0.05 for x in range(1, 11)] #P from 0.05 to 0.5 in 0.05 increments\n",
    "\n",
    "Xs = []\n",
    "Ys = []\n",
    "Ynorm = []\n",
    "rawRes = []\n",
    "for p in pHead:\n",
    "    res = macroBFlip(p, N, numIter)\n",
    "    rawRes.append(res)\n",
    "    \n",
    "    numItems = itemCount(res)\n",
    "    numItems, itemsX, itemsY = toList(numItems)\n",
    "    \n",
    "    sortedItems = srtFst(numItems)\n",
    "    resX, resY = unzip(sortedItems)\n",
    "    resYnormed = normalize(resY)\n",
    "    \n",
    "    Xs.append(resX)\n",
    "    Ys.append(resY)\n",
    "    Ynorm.append(resYnormed)\n",
    "\n",
    "means = []\n",
    "for entry in rawRes:\n",
    "    means.append(np.mean(entry))\n",
    "\n",
    "poissonDistributions = []\n",
    "i = 0\n",
    "for entry in Xs:\n",
    "    poisson = []\n",
    "    for value in entry:\n",
    "        mean = means[i]\n",
    "        poisson.append(poissonProb(value, mean))\n",
    "    i += 1\n",
    "    poissonDistributions.append(poisson) \n",
    "    if i > 0: break; #Extreme patchwork code sorry.This should get us just p = 0.05"
   ]
  },
  {
   "cell_type": "code",
   "execution_count": 216,
   "metadata": {},
   "outputs": [
    {
     "data": {
      "text/plain": [
       "<matplotlib.legend.Legend at 0x7f7b9111fc88>"
      ]
     },
     "execution_count": 216,
     "metadata": {},
     "output_type": "execute_result"
    },
    {
     "data": {
      "image/png": "[encoded data removed]",
      "text/plain": [
       "<Figure size 432x288 with 1 Axes>"
      ]
     },
     "metadata": {
      "needs_background": "light"
     },
     "output_type": "display_data"
    }
   ],
   "source": [
    "plt.title(\"Distribution Functions for Differing Probabilities of Heads for an Unfair Coin\")\n",
    "plt.xlabel(\"Number of Heads\")\n",
    "plt.ylabel(\"Probability\")\n",
    "plt.plot(Xs[0], Ynorm[0], label = \"Raw Data\")\n",
    "plt.plot(Xs[0], poissonDistributions[0], label = \"Poisson Function\")\n",
    "plt.legend()"
   ]
  },
  {
   "cell_type": "markdown",
   "metadata": {},
   "source": [
    "#### As we can see from our results above, the poisson distribution approximation for the probabilities is basically bang on! The poisson distribution is also a gaussian, which appears to have a slightly lower height and a slightly higher standard deviation than our data, as the graph's interweaving of our data shows, but is otherwise extremely close to the results attained by our raw data.\n",
    "\n",
    "#### As for why it is that our raw data is basically a poisson distribution/such a distribution models our data well, the poisson distribution is an aggregate over some time or area of an unlikely event, or an event known to occur some amount of times per time/area on average, which is basically what seeing a head with probability 0.05 over hundreds of flips is."
   ]
  },
  {
   "cell_type": "code",
   "execution_count": null,
   "metadata": {},
   "outputs": [],
   "source": []
  }
 ],
 "metadata": {
  "kernelspec": {
   "display_name": "Python 3",
   "language": "python",
   "name": "python3"
  },
  "language_info": {
   "codemirror_mode": {
    "name": "ipython",
    "version": 3
   },
   "file_extension": ".py",
   "mimetype": "text/x-python",
   "name": "python",
   "nbconvert_exporter": "python",
   "pygments_lexer": "ipython3",
   "version": "3.7.3"
  }
 },
 "nbformat": 4,
 "nbformat_minor": 2
}
